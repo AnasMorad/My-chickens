{
 "cells": [
  {
   "cell_type": "markdown",
   "id": "ff0f12bb",
   "metadata": {},
   "source": [
    "## Domain Analysis"
   ]
  },
  {
   "cell_type": "markdown",
   "id": "59911611",
   "metadata": {},
   "source": [
    "hours: represent how many hours each student study.\n",
    "\n",
    "scores: the result based on the studying hours for each student "
   ]
  },
  {
   "cell_type": "code",
   "execution_count": 5,
   "id": "ff5117e6",
   "metadata": {},
   "outputs": [],
   "source": [
    "#Importing Libraries "
   ]
  },
  {
   "cell_type": "code",
   "execution_count": 1,
   "id": "6634347f",
   "metadata": {},
   "outputs": [],
   "source": [
    "import pandas as pd\n",
    "import numpy as np\n",
    "import matplotlib.pyplot as plt\n",
    "import seaborn as sns\n",
    "%matplotlib inline"
   ]
  },
  {
   "cell_type": "code",
   "execution_count": 6,
   "id": "f7e8daa0",
   "metadata": {},
   "outputs": [],
   "source": [
    "#reading Data"
   ]
  },
  {
   "cell_type": "code",
   "execution_count": 2,
   "id": "f51a1784",
   "metadata": {
    "collapsed": true
   },
   "outputs": [
    {
     "data": {
      "text/html": [
       "<div>\n",
       "<style scoped>\n",
       "    .dataframe tbody tr th:only-of-type {\n",
       "        vertical-align: middle;\n",
       "    }\n",
       "\n",
       "    .dataframe tbody tr th {\n",
       "        vertical-align: top;\n",
       "    }\n",
       "\n",
       "    .dataframe thead th {\n",
       "        text-align: right;\n",
       "    }\n",
       "</style>\n",
       "<table border=\"1\" class=\"dataframe\">\n",
       "  <thead>\n",
       "    <tr style=\"text-align: right;\">\n",
       "      <th></th>\n",
       "      <th>Hours</th>\n",
       "      <th>Scores</th>\n",
       "    </tr>\n",
       "  </thead>\n",
       "  <tbody>\n",
       "    <tr>\n",
       "      <th>0</th>\n",
       "      <td>2.5</td>\n",
       "      <td>21</td>\n",
       "    </tr>\n",
       "    <tr>\n",
       "      <th>1</th>\n",
       "      <td>5.1</td>\n",
       "      <td>47</td>\n",
       "    </tr>\n",
       "    <tr>\n",
       "      <th>2</th>\n",
       "      <td>3.2</td>\n",
       "      <td>27</td>\n",
       "    </tr>\n",
       "    <tr>\n",
       "      <th>3</th>\n",
       "      <td>8.5</td>\n",
       "      <td>75</td>\n",
       "    </tr>\n",
       "    <tr>\n",
       "      <th>4</th>\n",
       "      <td>3.5</td>\n",
       "      <td>30</td>\n",
       "    </tr>\n",
       "    <tr>\n",
       "      <th>5</th>\n",
       "      <td>1.5</td>\n",
       "      <td>20</td>\n",
       "    </tr>\n",
       "    <tr>\n",
       "      <th>6</th>\n",
       "      <td>9.2</td>\n",
       "      <td>88</td>\n",
       "    </tr>\n",
       "    <tr>\n",
       "      <th>7</th>\n",
       "      <td>5.5</td>\n",
       "      <td>60</td>\n",
       "    </tr>\n",
       "    <tr>\n",
       "      <th>8</th>\n",
       "      <td>8.3</td>\n",
       "      <td>81</td>\n",
       "    </tr>\n",
       "    <tr>\n",
       "      <th>9</th>\n",
       "      <td>2.7</td>\n",
       "      <td>25</td>\n",
       "    </tr>\n",
       "    <tr>\n",
       "      <th>10</th>\n",
       "      <td>7.7</td>\n",
       "      <td>85</td>\n",
       "    </tr>\n",
       "    <tr>\n",
       "      <th>11</th>\n",
       "      <td>5.9</td>\n",
       "      <td>62</td>\n",
       "    </tr>\n",
       "    <tr>\n",
       "      <th>12</th>\n",
       "      <td>4.5</td>\n",
       "      <td>41</td>\n",
       "    </tr>\n",
       "    <tr>\n",
       "      <th>13</th>\n",
       "      <td>3.3</td>\n",
       "      <td>42</td>\n",
       "    </tr>\n",
       "    <tr>\n",
       "      <th>14</th>\n",
       "      <td>1.1</td>\n",
       "      <td>17</td>\n",
       "    </tr>\n",
       "    <tr>\n",
       "      <th>15</th>\n",
       "      <td>8.9</td>\n",
       "      <td>95</td>\n",
       "    </tr>\n",
       "    <tr>\n",
       "      <th>16</th>\n",
       "      <td>2.5</td>\n",
       "      <td>30</td>\n",
       "    </tr>\n",
       "    <tr>\n",
       "      <th>17</th>\n",
       "      <td>1.9</td>\n",
       "      <td>24</td>\n",
       "    </tr>\n",
       "    <tr>\n",
       "      <th>18</th>\n",
       "      <td>6.1</td>\n",
       "      <td>67</td>\n",
       "    </tr>\n",
       "    <tr>\n",
       "      <th>19</th>\n",
       "      <td>7.4</td>\n",
       "      <td>69</td>\n",
       "    </tr>\n",
       "    <tr>\n",
       "      <th>20</th>\n",
       "      <td>2.7</td>\n",
       "      <td>30</td>\n",
       "    </tr>\n",
       "    <tr>\n",
       "      <th>21</th>\n",
       "      <td>4.8</td>\n",
       "      <td>54</td>\n",
       "    </tr>\n",
       "    <tr>\n",
       "      <th>22</th>\n",
       "      <td>3.8</td>\n",
       "      <td>35</td>\n",
       "    </tr>\n",
       "    <tr>\n",
       "      <th>23</th>\n",
       "      <td>6.9</td>\n",
       "      <td>76</td>\n",
       "    </tr>\n",
       "    <tr>\n",
       "      <th>24</th>\n",
       "      <td>7.8</td>\n",
       "      <td>86</td>\n",
       "    </tr>\n",
       "  </tbody>\n",
       "</table>\n",
       "</div>"
      ],
      "text/plain": [
       "    Hours  Scores\n",
       "0     2.5      21\n",
       "1     5.1      47\n",
       "2     3.2      27\n",
       "3     8.5      75\n",
       "4     3.5      30\n",
       "5     1.5      20\n",
       "6     9.2      88\n",
       "7     5.5      60\n",
       "8     8.3      81\n",
       "9     2.7      25\n",
       "10    7.7      85\n",
       "11    5.9      62\n",
       "12    4.5      41\n",
       "13    3.3      42\n",
       "14    1.1      17\n",
       "15    8.9      95\n",
       "16    2.5      30\n",
       "17    1.9      24\n",
       "18    6.1      67\n",
       "19    7.4      69\n",
       "20    2.7      30\n",
       "21    4.8      54\n",
       "22    3.8      35\n",
       "23    6.9      76\n",
       "24    7.8      86"
      ]
     },
     "execution_count": 2,
     "metadata": {},
     "output_type": "execute_result"
    }
   ],
   "source": [
    "data='http://bit.ly/w-data'\n",
    "Data=pd.read_csv(data)\n",
    "Data"
   ]
  },
  {
   "cell_type": "code",
   "execution_count": 7,
   "id": "8a7b0041",
   "metadata": {},
   "outputs": [],
   "source": [
    "#Basic checks"
   ]
  },
  {
   "cell_type": "code",
   "execution_count": 3,
   "id": "86f931cd",
   "metadata": {
    "scrolled": true
   },
   "outputs": [
    {
     "data": {
      "text/html": [
       "<div>\n",
       "<style scoped>\n",
       "    .dataframe tbody tr th:only-of-type {\n",
       "        vertical-align: middle;\n",
       "    }\n",
       "\n",
       "    .dataframe tbody tr th {\n",
       "        vertical-align: top;\n",
       "    }\n",
       "\n",
       "    .dataframe thead th {\n",
       "        text-align: right;\n",
       "    }\n",
       "</style>\n",
       "<table border=\"1\" class=\"dataframe\">\n",
       "  <thead>\n",
       "    <tr style=\"text-align: right;\">\n",
       "      <th></th>\n",
       "      <th>Hours</th>\n",
       "      <th>Scores</th>\n",
       "    </tr>\n",
       "  </thead>\n",
       "  <tbody>\n",
       "    <tr>\n",
       "      <th>0</th>\n",
       "      <td>2.5</td>\n",
       "      <td>21</td>\n",
       "    </tr>\n",
       "    <tr>\n",
       "      <th>1</th>\n",
       "      <td>5.1</td>\n",
       "      <td>47</td>\n",
       "    </tr>\n",
       "    <tr>\n",
       "      <th>2</th>\n",
       "      <td>3.2</td>\n",
       "      <td>27</td>\n",
       "    </tr>\n",
       "    <tr>\n",
       "      <th>3</th>\n",
       "      <td>8.5</td>\n",
       "      <td>75</td>\n",
       "    </tr>\n",
       "    <tr>\n",
       "      <th>4</th>\n",
       "      <td>3.5</td>\n",
       "      <td>30</td>\n",
       "    </tr>\n",
       "  </tbody>\n",
       "</table>\n",
       "</div>"
      ],
      "text/plain": [
       "   Hours  Scores\n",
       "0    2.5      21\n",
       "1    5.1      47\n",
       "2    3.2      27\n",
       "3    8.5      75\n",
       "4    3.5      30"
      ]
     },
     "execution_count": 3,
     "metadata": {},
     "output_type": "execute_result"
    }
   ],
   "source": [
    "Data.head()"
   ]
  },
  {
   "cell_type": "code",
   "execution_count": 8,
   "id": "c70b6249",
   "metadata": {
    "scrolled": true
   },
   "outputs": [
    {
     "name": "stdout",
     "output_type": "stream",
     "text": [
      "<class 'pandas.core.frame.DataFrame'>\n",
      "RangeIndex: 25 entries, 0 to 24\n",
      "Data columns (total 2 columns):\n",
      " #   Column  Non-Null Count  Dtype  \n",
      "---  ------  --------------  -----  \n",
      " 0   Hours   25 non-null     float64\n",
      " 1   Scores  25 non-null     int64  \n",
      "dtypes: float64(1), int64(1)\n",
      "memory usage: 528.0 bytes\n"
     ]
    }
   ],
   "source": [
    "Data.info()"
   ]
  },
  {
   "cell_type": "code",
   "execution_count": 10,
   "id": "5403dc55",
   "metadata": {},
   "outputs": [],
   "source": [
    "#no null values in the data set"
   ]
  },
  {
   "cell_type": "code",
   "execution_count": 9,
   "id": "c552dc1f",
   "metadata": {
    "scrolled": true
   },
   "outputs": [
    {
     "data": {
      "text/html": [
       "<div>\n",
       "<style scoped>\n",
       "    .dataframe tbody tr th:only-of-type {\n",
       "        vertical-align: middle;\n",
       "    }\n",
       "\n",
       "    .dataframe tbody tr th {\n",
       "        vertical-align: top;\n",
       "    }\n",
       "\n",
       "    .dataframe thead th {\n",
       "        text-align: right;\n",
       "    }\n",
       "</style>\n",
       "<table border=\"1\" class=\"dataframe\">\n",
       "  <thead>\n",
       "    <tr style=\"text-align: right;\">\n",
       "      <th></th>\n",
       "      <th>Hours</th>\n",
       "      <th>Scores</th>\n",
       "    </tr>\n",
       "  </thead>\n",
       "  <tbody>\n",
       "    <tr>\n",
       "      <th>count</th>\n",
       "      <td>25.000000</td>\n",
       "      <td>25.000000</td>\n",
       "    </tr>\n",
       "    <tr>\n",
       "      <th>mean</th>\n",
       "      <td>5.012000</td>\n",
       "      <td>51.480000</td>\n",
       "    </tr>\n",
       "    <tr>\n",
       "      <th>std</th>\n",
       "      <td>2.525094</td>\n",
       "      <td>25.286887</td>\n",
       "    </tr>\n",
       "    <tr>\n",
       "      <th>min</th>\n",
       "      <td>1.100000</td>\n",
       "      <td>17.000000</td>\n",
       "    </tr>\n",
       "    <tr>\n",
       "      <th>25%</th>\n",
       "      <td>2.700000</td>\n",
       "      <td>30.000000</td>\n",
       "    </tr>\n",
       "    <tr>\n",
       "      <th>50%</th>\n",
       "      <td>4.800000</td>\n",
       "      <td>47.000000</td>\n",
       "    </tr>\n",
       "    <tr>\n",
       "      <th>75%</th>\n",
       "      <td>7.400000</td>\n",
       "      <td>75.000000</td>\n",
       "    </tr>\n",
       "    <tr>\n",
       "      <th>max</th>\n",
       "      <td>9.200000</td>\n",
       "      <td>95.000000</td>\n",
       "    </tr>\n",
       "  </tbody>\n",
       "</table>\n",
       "</div>"
      ],
      "text/plain": [
       "           Hours     Scores\n",
       "count  25.000000  25.000000\n",
       "mean    5.012000  51.480000\n",
       "std     2.525094  25.286887\n",
       "min     1.100000  17.000000\n",
       "25%     2.700000  30.000000\n",
       "50%     4.800000  47.000000\n",
       "75%     7.400000  75.000000\n",
       "max     9.200000  95.000000"
      ]
     },
     "execution_count": 9,
     "metadata": {},
     "output_type": "execute_result"
    }
   ],
   "source": [
    "Data.describe()"
   ]
  },
  {
   "cell_type": "markdown",
   "id": "4990ed7d",
   "metadata": {},
   "source": [
    "## Exploratory Data Analysis "
   ]
  },
  {
   "cell_type": "code",
   "execution_count": 11,
   "id": "59ee2f9e",
   "metadata": {},
   "outputs": [],
   "source": [
    "#it is only two variables so we can make the Bivariate analysis directly"
   ]
  },
  {
   "cell_type": "code",
   "execution_count": 16,
   "id": "ebb29b31",
   "metadata": {
    "scrolled": true
   },
   "outputs": [
    {
     "data": {
      "text/plain": [
       "<seaborn.axisgrid.FacetGrid at 0x1efa132adf0>"
      ]
     },
     "execution_count": 16,
     "metadata": {},
     "output_type": "execute_result"
    },
    {
     "data": {
      "image/png": "[encoded data removed]",
      "text/plain": [
       "<Figure size 360x360 with 1 Axes>"
      ]
     },
     "metadata": {
      "needs_background": "light"
     },
     "output_type": "display_data"
    }
   ],
   "source": [
    "sns.relplot(x='Hours',y='Scores',data=Data)"
   ]
  },
  {
   "cell_type": "code",
   "execution_count": 17,
   "id": "9a3cf53f",
   "metadata": {},
   "outputs": [],
   "source": [
    "#it is obvious that when the hours of studying increase the scores increase also, so the linear relationship is clear in that data set "
   ]
  },
  {
   "cell_type": "markdown",
   "id": "91a44099",
   "metadata": {},
   "source": [
    "## Data preprocessing and feature engineering"
   ]
  },
  {
   "cell_type": "code",
   "execution_count": 18,
   "id": "aadde180",
   "metadata": {},
   "outputs": [
    {
     "data": {
      "text/plain": [
       "<AxesSubplot:xlabel='Hours'>"
      ]
     },
     "execution_count": 18,
     "metadata": {},
     "output_type": "execute_result"
    },
    {
     "data": {
      "image/png": "[encoded data removed]",
      "text/plain": [
       "<Figure size 432x288 with 1 Axes>"
      ]
     },
     "metadata": {
      "needs_background": "light"
     },
     "output_type": "display_data"
    }
   ],
   "source": [
    "#there is no missing values or null values , no categorical values to be handled also\n",
    "#we can check the outlier\n",
    "sns.boxplot(x='Hours',data=Data)"
   ]
  },
  {
   "cell_type": "code",
   "execution_count": 19,
   "id": "d2ff665c",
   "metadata": {},
   "outputs": [],
   "source": [
    "#there is no outlier "
   ]
  },
  {
   "cell_type": "markdown",
   "id": "588f53c1",
   "metadata": {},
   "source": [
    "## Model creation \n",
    "we have only hours as feature to be analyze over it so we dont need feature selection in that data set\n"
   ]
  },
  {
   "cell_type": "code",
   "execution_count": 52,
   "id": "540ae727",
   "metadata": {},
   "outputs": [],
   "source": [
    "#Step 1 Independent and dependent variable creation\n",
    "X=Data.Hours ## X variable contains all inputs\n",
    "y=Data.Scores ## y is output"
   ]
  },
  {
   "cell_type": "code",
   "execution_count": 34,
   "id": "b77a043f",
   "metadata": {},
   "outputs": [],
   "source": [
    "x=X.array.reshape(-1,1)"
   ]
  },
  {
   "cell_type": "code",
   "execution_count": 35,
   "id": "4f7e9f4a",
   "metadata": {
    "collapsed": true
   },
   "outputs": [
    {
     "data": {
      "text/plain": [
       "<PandasArray>\n",
       "[\n",
       "[2.5],\n",
       "[5.1],\n",
       "[3.2],\n",
       "[8.5],\n",
       "[3.5],\n",
       "[1.5],\n",
       "[9.2],\n",
       "[5.5],\n",
       "[8.3],\n",
       "[2.7],\n",
       "[7.7],\n",
       "[5.9],\n",
       "[4.5],\n",
       "[3.3],\n",
       "[1.1],\n",
       "[8.9],\n",
       "[2.5],\n",
       "[1.9],\n",
       "[6.1],\n",
       "[7.4],\n",
       "[2.7],\n",
       "[4.8],\n",
       "[3.8],\n",
       "[6.9],\n",
       "[7.8]\n",
       "]\n",
       "Shape: (25, 1), dtype: float64"
      ]
     },
     "execution_count": 35,
     "metadata": {},
     "output_type": "execute_result"
    }
   ],
   "source": [
    "x"
   ]
  },
  {
   "cell_type": "code",
   "execution_count": 36,
   "id": "2c0c392e",
   "metadata": {},
   "outputs": [],
   "source": [
    "Y=y.array.reshape(-1,1)"
   ]
  },
  {
   "cell_type": "code",
   "execution_count": 53,
   "id": "275904a4",
   "metadata": {},
   "outputs": [],
   "source": [
    "# Step 2 Traning and testing data creation\n",
    "from sklearn.model_selection import train_test_split\n",
    "X_train,X_test,y_train,y_test=train_test_split(x,y,test_size=0.2,random_state=0)"
   ]
  },
  {
   "cell_type": "code",
   "execution_count": 38,
   "id": "cb22f432",
   "metadata": {
    "collapsed": true
   },
   "outputs": [
    {
     "data": {
      "text/plain": [
       "<PandasArray>\n",
       "[\n",
       "[7.7],\n",
       "[9.2],\n",
       "[5.9],\n",
       "[3.2],\n",
       "[3.5],\n",
       "[7.4],\n",
       "[1.9],\n",
       "[8.9],\n",
       "[2.5],\n",
       "[7.8],\n",
       "[3.3],\n",
       "[5.5],\n",
       "[2.7],\n",
       "[6.1],\n",
       "[2.7],\n",
       "[8.3],\n",
       "[5.1],\n",
       "[1.5],\n",
       "[6.9],\n",
       "[1.1]\n",
       "]\n",
       "Shape: (20, 1), dtype: float64"
      ]
     },
     "execution_count": 38,
     "metadata": {},
     "output_type": "execute_result"
    }
   ],
   "source": [
    "X_train"
   ]
  },
  {
   "cell_type": "code",
   "execution_count": 55,
   "id": "0e7c4ffc",
   "metadata": {},
   "outputs": [
    {
     "data": {
      "text/plain": [
       "LinearRegression()"
      ]
     },
     "execution_count": 55,
     "metadata": {},
     "output_type": "execute_result"
    }
   ],
   "source": [
    "# Step 3 Creating model\n",
    "from sklearn.linear_model import LinearRegression\n",
    "LR=LinearRegression() # object creation\n",
    "LR.fit(X_train,y_train) # training of linear regression\n"
   ]
  },
  {
   "cell_type": "code",
   "execution_count": 59,
   "id": "8214aea8",
   "metadata": {},
   "outputs": [],
   "source": [
    "y_pred = LR.predict(X_test)"
   ]
  },
  {
   "cell_type": "code",
   "execution_count": 56,
   "id": "93c235e9",
   "metadata": {},
   "outputs": [
    {
     "data": {
      "text/plain": [
       "5     20\n",
       "2     27\n",
       "19    69\n",
       "16    30\n",
       "11    62\n",
       "Name: Scores, dtype: int64"
      ]
     },
     "execution_count": 56,
     "metadata": {},
     "output_type": "execute_result"
    }
   ],
   "source": [
    "y_test #actual values "
   ]
  },
  {
   "cell_type": "code",
   "execution_count": 60,
   "id": "bd1bb170",
   "metadata": {
    "scrolled": true
   },
   "outputs": [
    {
     "data": {
      "text/plain": [
       "array([16.88414476, 33.73226078, 75.357018  , 26.79480124, 60.49103328])"
      ]
     },
     "execution_count": 60,
     "metadata": {},
     "output_type": "execute_result"
    }
   ],
   "source": [
    "y_pred # predicted values by the model "
   ]
  },
  {
   "cell_type": "code",
   "execution_count": 61,
   "id": "e02914de",
   "metadata": {},
   "outputs": [],
   "source": [
    "# Step 4 Model Evalution\n",
    "\n",
    "from sklearn.metrics import r2_score,mean_squared_error,mean_absolute_error\n",
    "r2score=r2_score(y_test,y_pred)"
   ]
  },
  {
   "cell_type": "code",
   "execution_count": 62,
   "id": "4a1d9e88",
   "metadata": {},
   "outputs": [
    {
     "data": {
      "text/plain": [
       "0.9454906892105356"
      ]
     },
     "execution_count": 62,
     "metadata": {},
     "output_type": "execute_result"
    }
   ],
   "source": [
    "r2score"
   ]
  },
  {
   "cell_type": "code",
   "execution_count": 44,
   "id": "304d2a70",
   "metadata": {},
   "outputs": [],
   "source": [
    "#the score is above 94 which is accepted for that type of models "
   ]
  },
  {
   "cell_type": "code",
   "execution_count": 66,
   "id": "c0c12705",
   "metadata": {},
   "outputs": [
    {
     "name": "stdout",
     "output_type": "stream",
     "text": [
      "21.5987693072174\n",
      "4.6474476121003665\n"
     ]
    }
   ],
   "source": [
    "import math\n",
    "print(mean_squared_error(y_test,y_pred))\n",
    "print(math.sqrt(mean_squared_error(y_test,y_pred))) # root mean squared error"
   ]
  },
  {
   "cell_type": "code",
   "execution_count": 68,
   "id": "6865f3dc",
   "metadata": {},
   "outputs": [
    {
     "name": "stdout",
     "output_type": "stream",
     "text": [
      "4.183859899002975\n"
     ]
    }
   ],
   "source": [
    "print(mean_absolute_error(y_test,y_pred))"
   ]
  },
  {
   "cell_type": "code",
   "execution_count": 76,
   "id": "c3d4efa8",
   "metadata": {},
   "outputs": [],
   "source": [
    "# for sample prediction of 9.25 hours \n",
    "hours = np.array([9.25])"
   ]
  },
  {
   "cell_type": "code",
   "execution_count": 78,
   "id": "6b71aa22",
   "metadata": {},
   "outputs": [],
   "source": [
    "Hours=hours.reshape(1,-1)"
   ]
  },
  {
   "cell_type": "code",
   "execution_count": 80,
   "id": "d1820c43",
   "metadata": {},
   "outputs": [
    {
     "data": {
      "text/plain": [
       "array([93.69173249])"
      ]
     },
     "execution_count": 80,
     "metadata": {},
     "output_type": "execute_result"
    }
   ],
   "source": [
    "my_pred=LR.predict(Hours)\n",
    "my_pred"
   ]
  }
 ],
 "metadata": {
  "kernelspec": {
   "display_name": "Python 3 (ipykernel)",
   "language": "python",
   "name": "python3"
  },
  "language_info": {
   "codemirror_mode": {
    "name": "ipython",
    "version": 3
   },
   "file_extension": ".py",
   "mimetype": "text/x-python",
   "name": "python",
   "nbconvert_exporter": "python",
   "pygments_lexer": "ipython3",
   "version": "3.9.7"
  }
 },
 "nbformat": 4,
 "nbformat_minor": 5
}
